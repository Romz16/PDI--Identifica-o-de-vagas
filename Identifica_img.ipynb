{
 "cells": [
  {
   "cell_type": "code",
   "execution_count": 4,
   "metadata": {},
   "outputs": [],
   "source": [
    "import os \n",
    "import numpy as np\n",
    "import tensorflow as tf\n",
    "import cv2\n",
    "import xml.etree.ElementTree as ET\n",
    "from sklearn.preprocessing import LabelEncoder\n",
    "from tensorflow.keras.utils import to_categorical"
   ]
  },
  {
   "cell_type": "markdown",
   "metadata": {},
   "source": [
    "# Carregar e Processar os Dados"
   ]
  },
  {
   "cell_type": "code",
   "execution_count": 5,
   "metadata": {},
   "outputs": [],
   "source": [
    "def parse_xml(xml_file):\n",
    "    tree = ET.parse(xml_file) #Carrega e analisa o arquivo XML.\n",
    "    root = tree.getroot()\n",
    "    boxes = []\n",
    "    labels = []\n",
    "    \n",
    "    for obj in root.findall('object'):#Encontra todos os elementos <object> no XML, que representam as caixas delimitadoras.\n",
    "        label = obj.find('name').text #Obtém o rótulo da caixa (livre, ocupada, parcialmente livre).\n",
    "        bbox = obj.find('bndbox')\n",
    "        xmin = int(bbox.find('xmin').text) #Obtém as coordenadas da caixa delimitadora.\n",
    "        ymin = int(bbox.find('ymin').text)\n",
    "        xmax = int(bbox.find('xmax').text)\n",
    "        ymax = int(bbox.find('ymax').text)\n",
    "        boxes.append((xmin, ymin, xmax, ymax))\n",
    "        labels.append(label)\n",
    "    \n",
    "    return boxes, labels\n"
   ]
  },
  {
   "cell_type": "code",
   "execution_count": 6,
   "metadata": {},
   "outputs": [],
   "source": [
    "def load_data(image_folder, xml_folder):\n",
    "    images = []\n",
    "    labels = []\n",
    "    #Para cada imagem, lê o arquivo XML correspondente para obter as caixas delimitadoras e os rótulos.\n",
    "    for image_file in os.listdir(image_folder):\n",
    "        if not image_file.endswith('.png'):\n",
    "            continue\n",
    "            \n",
    "        image_path = os.path.join(image_folder, image_file)\n",
    "        xml_path = os.path.join(xml_folder, image_file.replace('.jpg', '.xml'))\n",
    "        \n",
    "        image = cv2.imread(image_path)\n",
    "        boxes, image_labels = parse_xml(xml_path)\n",
    "        \n",
    "        for box, label in zip(boxes, image_labels):\n",
    "            xmin, ymin, xmax, ymax = box\n",
    "            cropped_image = image[ymin:ymax, xmin:xmax]\n",
    "            cropped_image = cv2.resize(cropped_image, (64, 64))\n",
    "            images.append(cropped_image)\n",
    "            labels.append(label)\n",
    "    \n",
    "    images = np.array(images) / 255.0\n",
    "    labels = np.array(labels)\n",
    "    \n",
    "    return images, labels\n"
   ]
  },
  {
   "cell_type": "markdown",
   "metadata": {},
   "source": [
    "# Modelo"
   ]
  },
  {
   "cell_type": "code",
   "execution_count": null,
   "metadata": {},
   "outputs": [],
   "source": [
    "model = Sequential([\n",
    "    Conv2D(32, (3, 3), activation='relu', input_shape=(64, 64, 3)),\n",
    "    MaxPooling2D(pool_size=(2, 2)),\n",
    "    Conv2D(64, (3, 3), activation='relu'),\n",
    "    MaxPooling2D(pool_size=(2, 2)),\n",
    "    Flatten(),\n",
    "    Dense(128, activation='relu'),\n",
    "    Dropout(0.5),\n",
    "    Dense(3, activation='softmax')  # 3 classes de rótulos\n",
    "])\n",
    "\n",
    "model.compile(optimizer='adam', loss='categorical_crossentropy', metrics=['accuracy'])\n"
   ]
  },
  {
   "cell_type": "code",
   "execution_count": null,
   "metadata": {},
   "outputs": [],
   "source": []
  },
  {
   "cell_type": "code",
   "execution_count": null,
   "metadata": {},
   "outputs": [],
   "source": []
  },
  {
   "cell_type": "code",
   "execution_count": null,
   "metadata": {},
   "outputs": [],
   "source": []
  },
  {
   "cell_type": "code",
   "execution_count": null,
   "metadata": {},
   "outputs": [],
   "source": []
  }
 ],
 "metadata": {
  "kernelspec": {
   "display_name": "Python 3",
   "language": "python",
   "name": "python3"
  },
  "language_info": {
   "codemirror_mode": {
    "name": "ipython",
    "version": 3
   },
   "file_extension": ".py",
   "mimetype": "text/x-python",
   "name": "python",
   "nbconvert_exporter": "python",
   "pygments_lexer": "ipython3",
   "version": "3.12.4"
  }
 },
 "nbformat": 4,
 "nbformat_minor": 2
}
